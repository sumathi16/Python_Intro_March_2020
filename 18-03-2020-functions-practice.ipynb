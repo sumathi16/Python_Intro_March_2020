{
 "cells": [
  {
   "cell_type": "markdown",
   "metadata": {},
   "source": [
    "<pre>Function to check whether a number is prime or not.\n",
    "Parameters: Number\n",
    "Return Value: True/False</pre>"
   ]
  },
  {
   "cell_type": "markdown",
   "metadata": {},
   "source": [
    "<pre>Function Generate first n Prime Numbers\n",
    "Parameters: n\n",
    "Return Value: list of n prime numbers\"</pre>"
   ]
  },
  {
   "cell_type": "markdown",
   "metadata": {},
   "source": [
    "<pre>i/p : sumathi gonugunta    \n",
    "o/p : Sumathi Gonugunta\n",
    "Function to get the full name in proper format</pre>"
   ]
  },
  {
   "cell_type": "markdown",
   "metadata": {},
   "source": [
    "<pre>Format [Name,Maths,Science,English]\n",
    "Marks = [[\"Name1\",46,78,90],[\"Name2\",46,78,90],[\"Name3\",46,78,90],[\"Name4\",46,78,90]]\n",
    "Write Functions \n",
    "- To create\n",
    "- To Read\n",
    "- To update\n",
    "- To Delete elemnts in the lists\n",
    "- To calculate max marks in a specific subject</pre>"
   ]
  },
  {
   "cell_type": "code",
   "execution_count": null,
   "metadata": {},
   "outputs": [],
   "source": []
  }
 ],
 "metadata": {
  "kernelspec": {
   "display_name": "Python 3",
   "language": "python",
   "name": "python3"
  },
  "language_info": {
   "codemirror_mode": {
    "name": "ipython",
    "version": 3
   },
   "file_extension": ".py",
   "mimetype": "text/x-python",
   "name": "python",
   "nbconvert_exporter": "python",
   "pygments_lexer": "ipython3",
   "version": "3.7.4"
  }
 },
 "nbformat": 4,
 "nbformat_minor": 2
}

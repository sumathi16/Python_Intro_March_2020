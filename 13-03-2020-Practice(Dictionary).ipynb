{
 "cells": [
  {
   "cell_type": "markdown",
   "metadata": {},
   "source": [
    "Peter Piper picked a peck of pickled peppers\n",
    "A peck of pickled peppers Peter Piper picked\n",
    "If Peter Piper picked a peck of pickled peppers\n",
    "Where’s the peck of pickled peppers Peter Piper picked?\n"
   ]
  },
  {
   "cell_type": "markdown",
   "metadata": {},
   "source": [
    "- Get the word frequency as a dict from text above\n",
    "- keys as unique words \n",
    "- value as no of times that key ocuuered in text"
   ]
  },
  {
   "cell_type": "code",
   "execution_count": null,
   "metadata": {},
   "outputs": [],
   "source": []
  },
  {
   "cell_type": "markdown",
   "metadata": {},
   "source": [
    "- Read the inputs \n",
    "- How many students data you want to read\n",
    "- Read the student name\n",
    "- Read the students marks in three subjcts in a single line\n",
    "    - Example : \"56 78 92\"\n",
    "- Use the name as a key in the dictionary and values is alist with above marks\n",
    "- Repeat the above three steps for all the students\n",
    "- Final output is a dict\n",
    "    - Example Format\n",
    "    - {\"Renu\":[45,56,78],\"Hari\":[78,2,45]}"
   ]
  },
  {
   "cell_type": "code",
   "execution_count": null,
   "metadata": {},
   "outputs": [],
   "source": []
  },
  {
   "cell_type": "markdown",
   "metadata": {},
   "source": [
    "- read the number of students from user\n",
    "- Read the details of students into a list. Each sublist contains below details\n",
    "    - studentName,RollNumber,Marks,Language in a single line\n",
    "    - example \"raj,416,56,python\"\n",
    "- Create a dict in which \n",
    "    - key is a tuple contains name and roll number\n",
    "    - value is a dict with language as key marks as value\n",
    "- Output Format <br>{(\"Hari\",678):{\"C\":94},(\"Renu\",546):{\"Python\":75}"
   ]
  },
  {
   "cell_type": "code",
   "execution_count": null,
   "metadata": {},
   "outputs": [],
   "source": []
  },
  {
   "cell_type": "markdown",
   "metadata": {},
   "source": [
    "Modify the above code so that if the user enter multiple entries with same username and roll number you should add the new language as key and marks as values in the inner dictionary \n",
    "-o/p {(\"Hari\",678):{\"C\":94,\"Python\":67},(\"Renu\",546):{\"Python\":75}"
   ]
  },
  {
   "cell_type": "markdown",
   "metadata": {},
   "source": []
  }
 ],
 "metadata": {
  "kernelspec": {
   "display_name": "Python 3",
   "language": "python",
   "name": "python3"
  },
  "language_info": {
   "codemirror_mode": {
    "name": "ipython",
    "version": 3
   },
   "file_extension": ".py",
   "mimetype": "text/x-python",
   "name": "python",
   "nbconvert_exporter": "python",
   "pygments_lexer": "ipython3",
   "version": "3.7.3"
  }
 },
 "nbformat": 4,
 "nbformat_minor": 2
}

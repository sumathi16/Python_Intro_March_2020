{
 "cells": [
  {
   "cell_type": "markdown",
   "metadata": {},
   "source": [
    "Peter Piper picked a peck of pickled peppers\n",
    "A peck of pickled peppers Peter Piper picked\n",
    "If Peter Piper picked a peck of pickled peppers\n",
    "Where’s the peck of pickled peppers Peter Piper picked?\n"
   ]
  },
  {
   "cell_type": "markdown",
   "metadata": {},
   "source": [
    "- Get the word frequency as a dict from text above\n",
    "- keys as unique words \n",
    "- value as no of times that key ocuuered in text"
   ]
  },
  {
   "cell_type": "code",
   "execution_count": null,
   "metadata": {},
   "outputs": [],
   "source": []
  },
  {
   "cell_type": "markdown",
   "metadata": {},
   "source": [
    "- Read the inputs \n",
    "- How many students data you want to read\n",
    "- Read the student name\n",
    "- Read the students marks in three subjcts in a single line\n",
    "    - Example : \"56 78 92\"\n",
    "- Use the name as a key in the dictionary and values is alist with above marks\n",
    "- Repeat the above three steps for all the students\n",
    "- Final output is a dict\n",
    "    - Example Format\n",
    "    - {\"Renu\":[45,56,78],\"Hari\":[78,2,45]}"
   ]
  },
  {
   "cell_type": "code",
   "execution_count": null,
   "metadata": {},
   "outputs": [],
   "source": []
  },
  {
   "cell_type": "markdown",
   "metadata": {},
   "source": [
    "- read the number of students from user\n",
    "- Read the details of students into a list. Each sublist contains below details\n",
    "    - studentName,RollNumber,Marks,Language in a single line\n",
    "    - example \"raj,416,56,python\"\n",
    "- Create a dict in which \n",
    "    - key is a tuple contains name and roll number\n",
    "    - value is a dict with language as key marks as value\n",
    "- Output Format <br>{(\"Hari\",678):{\"C\":94},(\"Renu\",546):{\"Python\":75}"
   ]
  },
  {
   "cell_type": "code",
   "execution_count": null,
   "metadata": {},
   "outputs": [],
   "source": []
  },
  {
   "cell_type": "markdown",
   "metadata": {},
   "source": [
    "case 1: Modify the above code so that if the user enter multiple entries with same username and roll number you should add the new language as key and marks as values in the inner dictionary \n",
    "-o/p {(\"Hari\",678):{\"C\":94,\"Python\":67},(\"Renu\",546):{\"Python\":75}"
   ]
  },
  {
   "cell_type": "markdown",
   "metadata": {},
   "source": []
  },
  {
   "cell_type": "markdown",
   "metadata": {},
   "source": [
    "case2:\n",
    "Modify the above code so that if the user enter multiple entries with same username and roll number you should get the latest entry  "
   ]
  },
  {
   "cell_type": "code",
   "execution_count": null,
   "metadata": {},
   "outputs": [],
   "source": []
  },
  {
   "cell_type": "markdown",
   "metadata": {},
   "source": [
    "case3: \n",
    "Modify the above code so that if the user enter multiple entries with same username and roll number you should get the first entry"
   ]
  },
  {
   "cell_type": "code",
   "execution_count": 1,
   "metadata": {},
   "outputs": [],
   "source": [
    "d1 = {\"@python\":20000,'@c':10000,\"@java\":5000,\"@go\":15000}\n",
    "d2 = {\"@perl\": 10000,\"@c++\":5000,\"@python\":30000}\n",
    "# out1= {\"@python\":30000,'@c':10000,\"@java\":5000,\"@go\":15000}\n",
    "# out2 = {\"@perl\": 10000,\"@c++\":5000,\"@python\":20000}\n",
    "# out3 = {\"@python\":30000,'@c':10000,\"@java\":5000,\"@go\":15000,\n",
    "# \"@perl\": 10000,\"@c++\":5000}\n",
    "# out4 = {\"@perl\": 10000,\"@c++\":5000,\"@python\":20000,\n",
    "# '@c':10000,\"@java\":5000,\"@go\":15000}\n",
    "# out5 = {\"python\":[500000,30000]}\n",
    "#out6 = {'@c':10000,\"@java\":5000,\"@go\":15000\",\n",
    "# @perl\": 10000,\"@c++\":5000}"
   ]
  },
  {
   "cell_type": "code",
   "execution_count": null,
   "metadata": {},
   "outputs": [],
   "source": []
  },
  {
   "cell_type": "markdown",
   "metadata": {},
   "source": [
    "i/p :['suma@gmail.com', 'python1234@gmail.com', 'hello@gmail.com', 'hero@yahoo.in', 'roja@yahoo.in', 'promizeit@yahoo.in',\"hello@gitam.edu.in]<br>\n",
    "o/p1 : {\"gmail.com\":3,\"yahoo.in\":3,\"gitam.edu.in\":1}<br>\n",
    "op2 : {\"gmail.com\":['suma','python1234','hello'],\"yahoo.in\":['hero','roja','promizeit'],\"gitam.edu.in\":[hello]}"
   ]
  },
  {
   "cell_type": "code",
   "execution_count": null,
   "metadata": {},
   "outputs": [],
   "source": []
  },
  {
   "cell_type": "code",
   "execution_count": null,
   "metadata": {},
   "outputs": [],
   "source": []
  }
 ],
 "metadata": {
  "kernelspec": {
   "display_name": "Python 3",
   "language": "python",
   "name": "python3"
  },
  "language_info": {
   "codemirror_mode": {
    "name": "ipython",
    "version": 3
   },
   "file_extension": ".py",
   "mimetype": "text/x-python",
   "name": "python",
   "nbconvert_exporter": "python",
   "pygments_lexer": "ipython3",
   "version": "3.7.3"
  }
 },
 "nbformat": 4,
 "nbformat_minor": 2
}

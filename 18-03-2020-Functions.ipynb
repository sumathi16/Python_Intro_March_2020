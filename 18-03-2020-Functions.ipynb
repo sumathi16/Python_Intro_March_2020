{
 "cells": [
  {
   "cell_type": "code",
   "execution_count": null,
   "metadata": {},
   "outputs": [],
   "source": [
    "# Calculate squares of each element in a list\n",
    "# i/p : [5,3,2,9]\n",
    "# o/p : [25,9,4,81]"
   ]
  },
  {
   "cell_type": "code",
   "execution_count": 1,
   "metadata": {},
   "outputs": [
    {
     "data": {
      "text/plain": [
       "17"
      ]
     },
     "execution_count": 1,
     "metadata": {},
     "output_type": "execute_result"
    }
   ],
   "source": [
    "# Add two numbers\n",
    "8+9"
   ]
  },
  {
   "cell_type": "code",
   "execution_count": null,
   "metadata": {},
   "outputs": [],
   "source": [
    "# Display Hello World!\n"
   ]
  },
  {
   "cell_type": "code",
   "execution_count": null,
   "metadata": {},
   "outputs": [],
   "source": [
    "# Display Hello <UserName>\n",
    "# Read the username from the user"
   ]
  },
  {
   "cell_type": "code",
   "execution_count": null,
   "metadata": {},
   "outputs": [],
   "source": [
    "# Create a Dict with Roll numbers as key values as name\n",
    "# Read the Roll Number from the keyboard\n",
    "# From dict get the name using Roll Number\n",
    "# Dislay Hello <UserName>"
   ]
  },
  {
   "cell_type": "code",
   "execution_count": null,
   "metadata": {},
   "outputs": [],
   "source": [
    "print()\n",
    "print(\"value\")\n",
    "print(\"value1\",\"value2\")\n",
    "print(\"value1\",\"value2\",sep=',')\n",
    "print(\"value1\",\"value2\",sep=',',end =' ')"
   ]
  },
  {
   "cell_type": "code",
   "execution_count": 4,
   "metadata": {
    "collapsed": true
   },
   "outputs": [
    {
     "name": "stdout",
     "output_type": "stream",
     "text": [
      "value1,value2\n",
      "None\n"
     ]
    }
   ],
   "source": [
    "a = print(\"value1\",\"value2\",sep=',')\n",
    "print(a)"
   ]
  },
  {
   "cell_type": "code",
   "execution_count": 6,
   "metadata": {
    "collapsed": true
   },
   "outputs": [
    {
     "name": "stdout",
     "output_type": "stream",
     "text": [
      "67\n",
      "67 3\n"
     ]
    }
   ],
   "source": [
    "b = input()\n",
    "c = len(\"hgc\")\n",
    "print(b,c)"
   ]
  },
  {
   "cell_type": "code",
   "execution_count": 7,
   "metadata": {
    "collapsed": true
   },
   "outputs": [
    {
     "name": "stdout",
     "output_type": "stream",
     "text": [
      "Help on built-in function print in module builtins:\n",
      "\n",
      "print(...)\n",
      "    print(value, ..., sep=' ', end='\\n', file=sys.stdout, flush=False)\n",
      "    \n",
      "    Prints the values to a stream, or to sys.stdout by default.\n",
      "    Optional keyword arguments:\n",
      "    file:  a file-like object (stream); defaults to the current sys.stdout.\n",
      "    sep:   string inserted between values, default a space.\n",
      "    end:   string appended after the last value, default a newline.\n",
      "    flush: whether to forcibly flush the stream.\n",
      "\n"
     ]
    }
   ],
   "source": [
    "help(print)"
   ]
  },
  {
   "cell_type": "code",
   "execution_count": 8,
   "metadata": {
    "collapsed": true
   },
   "outputs": [
    {
     "name": "stdout",
     "output_type": "stream",
     "text": [
      "Help on method_descriptor:\n",
      "\n",
      "split(self, /, sep=None, maxsplit=-1)\n",
      "    Return a list of the words in the string, using sep as the delimiter string.\n",
      "    \n",
      "    sep\n",
      "      The delimiter according which to split the string.\n",
      "      None (the default value) means split according to any whitespace,\n",
      "      and discard empty strings from the result.\n",
      "    maxsplit\n",
      "      Maximum number of splits to do.\n",
      "      -1 (the default value) means no limit.\n",
      "\n"
     ]
    }
   ],
   "source": [
    "help(str.split)"
   ]
  },
  {
   "cell_type": "markdown",
   "metadata": {},
   "source": [
    "def functionName(arg1,arg2,...):\n",
    "    state1\n",
    "    state2\n",
    "    state3\n",
    "    return value"
   ]
  },
  {
   "cell_type": "code",
   "execution_count": 10,
   "metadata": {},
   "outputs": [
    {
     "name": "stdout",
     "output_type": "stream",
     "text": [
      "Hello World!\n"
     ]
    }
   ],
   "source": [
    "# Without any argument and return value\n",
    "# defining a function\n",
    "def hello():\n",
    "    print(\"Hello World!\")\n",
    "# Calling the function\n",
    "hello()"
   ]
  },
  {
   "cell_type": "code",
   "execution_count": 18,
   "metadata": {
    "collapsed": true
   },
   "outputs": [
    {
     "name": "stdout",
     "output_type": "stream",
     "text": [
      "Hello Python\n",
      "Hello Python\n"
     ]
    }
   ],
   "source": [
    "# With an argument and without return value\n",
    "# defining a function\n",
    "def hello(name):\n",
    "    print(\"Hello \"+name)\n",
    "# Calling the function\n",
    "hello(\"Python\")\n",
    "hello(name=\"Python\")"
   ]
  },
  {
   "cell_type": "code",
   "execution_count": 24,
   "metadata": {
    "collapsed": true
   },
   "outputs": [
    {
     "name": "stdout",
     "output_type": "stream",
     "text": [
      "Hello Python ML\n",
      "Hello Python ML\n",
      "Hello Python ML\n"
     ]
    }
   ],
   "source": [
    "# With two arguments and without return value\n",
    "# defining a function\n",
    "def hello(fname,lname):\n",
    "    print(\"Hello \"+fname+' '+lname)\n",
    "# Calling the function\n",
    "hello(fname=\"Python\",lname=\"ML\")\n",
    "hello(\"Python\",\"ML\")\n",
    "hello(\"Python\",lname=\"ML\")\n",
    "#hello(fname=\"Python\",\"ML\")"
   ]
  },
  {
   "cell_type": "code",
   "execution_count": 26,
   "metadata": {
    "collapsed": true
   },
   "outputs": [
    {
     "name": "stdout",
     "output_type": "stream",
     "text": [
      "Hello Raj DELL\n",
      "Hello Raj PromizeIT\n"
     ]
    }
   ],
   "source": [
    "# Function with an optional argument\n",
    "def hello(fname,company = \"PromizeIT\"):\n",
    "    print(\"Hello \"+fname+' '+ company)\n",
    "# Calling the function\n",
    "hello(\"Raj\",\"DELL\")\n",
    "hello(\"Raj\")"
   ]
  },
  {
   "cell_type": "code",
   "execution_count": 28,
   "metadata": {
    "collapsed": true
   },
   "outputs": [
    {
     "ename": "SyntaxError",
     "evalue": "non-default argument follows default argument (<ipython-input-28-9f9d64af05a2>, line 2)",
     "output_type": "error",
     "traceback": [
      "\u001b[1;36m  File \u001b[1;32m\"<ipython-input-28-9f9d64af05a2>\"\u001b[1;36m, line \u001b[1;32m2\u001b[0m\n\u001b[1;33m    def hello(fname=\"Unknown\",company ):\u001b[0m\n\u001b[1;37m             ^\u001b[0m\n\u001b[1;31mSyntaxError\u001b[0m\u001b[1;31m:\u001b[0m non-default argument follows default argument\n"
     ]
    }
   ],
   "source": [
    "# Should mention the optional arguments at the end\n",
    "def hello(fname=\"Unknown\",company ):\n",
    "    print(\"Hello \"+fname+' '+ company)\n",
    "# Calling the function\n",
    "hello(\"Raj\",\"DELL\")\n",
    "hello(\"Raj\")"
   ]
  },
  {
   "cell_type": "code",
   "execution_count": 31,
   "metadata": {
    "collapsed": true
   },
   "outputs": [
    {
     "name": "stdout",
     "output_type": "stream",
     "text": [
      "125\n",
      "125\n"
     ]
    }
   ],
   "source": [
    "# Function with return value\n",
    "def cube(n):\n",
    "    return n**3\n",
    "print(cube(5))\n",
    "a = cube(5)\n",
    "print(a)"
   ]
  },
  {
   "cell_type": "code",
   "execution_count": 38,
   "metadata": {},
   "outputs": [
    {
     "name": "stdout",
     "output_type": "stream",
     "text": [
      "121 2\n",
      "(121, 2) <class 'tuple'>\n",
      "(121, 2)\n"
     ]
    }
   ],
   "source": [
    "# Function with two return values\n",
    "def powern(n):\n",
    "    d = len(str(n))\n",
    "    return n**d,d\n",
    "value,digits= powern(11)\n",
    "print(value,digits)\n",
    "values = powern(11)\n",
    "print(values,type(values))\n",
    "print(powern(11))"
   ]
  },
  {
   "cell_type": "code",
   "execution_count": 39,
   "metadata": {},
   "outputs": [],
   "source": [
    "# Arguments with variable length\n",
    "def prod(*numbers):\n",
    "    m = 1\n",
    "    for i in numbers:\n",
    "        m *= i\n",
    "    return m"
   ]
  },
  {
   "cell_type": "code",
   "execution_count": 42,
   "metadata": {
    "collapsed": true
   },
   "outputs": [
    {
     "name": "stdout",
     "output_type": "stream",
     "text": [
      "6\n",
      "24\n",
      "120\n"
     ]
    }
   ],
   "source": [
    "print(prod(2,3))\n",
    "print(prod(2,3,4))\n",
    "print(prod(2,3,4,5))"
   ]
  },
  {
   "cell_type": "code",
   "execution_count": 53,
   "metadata": {},
   "outputs": [
    {
     "name": "stdout",
     "output_type": "stream",
     "text": [
      "<class 'dict'>\n",
      "{'std1': [45, 56], 'std2': [23, 34]}\n"
     ]
    },
    {
     "data": {
      "text/plain": [
       "[101, 57]"
      ]
     },
     "execution_count": 53,
     "metadata": {},
     "output_type": "execute_result"
    }
   ],
   "source": [
    "def marksSum(**numbers):\n",
    "    print(type(numbers))\n",
    "    print(numbers)\n",
    "    marks= []\n",
    "    for i in numbers:\n",
    "        marks.append(sum(numbers[i]))\n",
    "    return marks\n",
    "marksSum(std1=[45,56],std2=[23,34])"
   ]
  },
  {
   "cell_type": "code",
   "execution_count": 55,
   "metadata": {},
   "outputs": [
    {
     "data": {
      "text/plain": [
       "133"
      ]
     },
     "execution_count": 55,
     "metadata": {},
     "output_type": "execute_result"
    }
   ],
   "source": [
    "def marksSum(**numbers):\n",
    "    return sum(numbers.values())\n",
    "marksSum(maths=56,science=77)"
   ]
  },
  {
   "cell_type": "code",
   "execution_count": 58,
   "metadata": {},
   "outputs": [
    {
     "name": "stdout",
     "output_type": "stream",
     "text": [
      "Please enter marks in Maths\n"
     ]
    }
   ],
   "source": [
    "def marksSum(**numbers):\n",
    "    if 'maths' in numbers:\n",
    "        return numbers['maths']\n",
    "    else:\n",
    "        print(\"Please enter marks in Maths\")\n",
    "marksSum(science=77)"
   ]
  },
  {
   "cell_type": "markdown",
   "metadata": {},
   "source": [
    "CamelCasing\n",
    "- firstName\n",
    "- lastName\n",
    "- sumOfMarks\n",
    "\n",
    "- first_name\n",
    "- last_name\n",
    "- sum_of_marks"
   ]
  },
  {
   "cell_type": "code",
   "execution_count": null,
   "metadata": {},
   "outputs": [],
   "source": [
    "# Calculate squares of each element in a list\n",
    "# i/p : \"5,3,2,9\"\n",
    "# o/p : [25,9,4,81]\n",
    "# func1:  o/p :[5,3,2,9]\n",
    "# func2: i/p:5 o/p:5**2\n",
    "# func3: i/p: o/p: [25,9,4,81]"
   ]
  },
  {
   "cell_type": "code",
   "execution_count": 60,
   "metadata": {
    "collapsed": true
   },
   "outputs": [
    {
     "name": "stdout",
     "output_type": "stream",
     "text": [
      "Enter values separate with comma5,10,3\n"
     ]
    },
    {
     "data": {
      "text/plain": [
       "[5, 10, 3]"
      ]
     },
     "execution_count": 60,
     "metadata": {},
     "output_type": "execute_result"
    }
   ],
   "source": [
    "def strList():\n",
    "    values = input(\"Enter values separate with comma\")\n",
    "    values = values.split(',')\n",
    "    for i in range(len(values)):\n",
    "        values[i]= int(values[i])\n",
    "    return values\n",
    "strList()"
   ]
  },
  {
   "cell_type": "code",
   "execution_count": 61,
   "metadata": {},
   "outputs": [
    {
     "data": {
      "text/plain": [
       "25"
      ]
     },
     "execution_count": 61,
     "metadata": {},
     "output_type": "execute_result"
    }
   ],
   "source": [
    "def square(n):\n",
    "    return n**2\n",
    "square(5)"
   ]
  },
  {
   "cell_type": "code",
   "execution_count": 62,
   "metadata": {},
   "outputs": [],
   "source": [
    "def squaredList():\n",
    "    values = strList()\n",
    "    for i in range(len(values)):\n",
    "        values[i] = square(values[i])\n",
    "    return values"
   ]
  },
  {
   "cell_type": "code",
   "execution_count": 65,
   "metadata": {
    "collapsed": true
   },
   "outputs": [
    {
     "name": "stdout",
     "output_type": "stream",
     "text": [
      "Enter values separate with comma3,4,5\n"
     ]
    },
    {
     "data": {
      "text/plain": [
       "[9, 16, 25]"
      ]
     },
     "execution_count": 65,
     "metadata": {},
     "output_type": "execute_result"
    }
   ],
   "source": [
    "squaredList()"
   ]
  },
  {
   "cell_type": "code",
   "execution_count": 72,
   "metadata": {},
   "outputs": [
    {
     "name": "stdout",
     "output_type": "stream",
     "text": [
      "34 45 67 \n",
      "34,45,67,\n",
      "34\t45\t67\t\n"
     ]
    }
   ],
   "source": [
    "def properDisplay(values,sep=' '):\n",
    "    for i in values:\n",
    "        print(i,end=sep)\n",
    "    print()\n",
    "properDisplay([34,45,67])\n",
    "properDisplay([34,45,67],sep=',')\n",
    "properDisplay([34,45,67],sep='\\t')"
   ]
  },
  {
   "cell_type": "code",
   "execution_count": null,
   "metadata": {},
   "outputs": [],
   "source": []
  }
 ],
 "metadata": {
  "celltoolbar": "Raw Cell Format",
  "kernelspec": {
   "display_name": "Python 3",
   "language": "python",
   "name": "python3"
  },
  "language_info": {
   "codemirror_mode": {
    "name": "ipython",
    "version": 3
   },
   "file_extension": ".py",
   "mimetype": "text/x-python",
   "name": "python",
   "nbconvert_exporter": "python",
   "pygments_lexer": "ipython3",
   "version": "3.7.4"
  }
 },
 "nbformat": 4,
 "nbformat_minor": 2
}

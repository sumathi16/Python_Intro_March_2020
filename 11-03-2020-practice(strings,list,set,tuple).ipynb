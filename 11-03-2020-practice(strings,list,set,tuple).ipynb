{
 "cells": [
  {
   "cell_type": "code",
   "execution_count": null,
   "metadata": {},
   "outputs": [],
   "source": [
    "# Read the input from keyboard\n",
    "# i/p  \"23 44 67 92 99\"\n",
    "# o/p : [3,4,7,2,9]\n",
    "# Try the problem in two ways\n",
    "    # to update the same list \n",
    "    # to create a new list"
   ]
  },
  {
   "cell_type": "code",
   "execution_count": null,
   "metadata": {},
   "outputs": [],
   "source": [
    "# Read the inputs from keyboard\n",
    "# i/p1: \"10 20 30 60 99\"\n",
    "# i/p2: \"7 6 9 11 9\"\n",
    "# o/p1: [3,2,3,5,0]\n",
    "# o/p2 : [1,3,3,5,11]"
   ]
  },
  {
   "cell_type": "code",
   "execution_count": null,
   "metadata": {},
   "outputs": [],
   "source": [
    "# Read the inputs from keyboard\n",
    "# i/p1: \"10 20 30 60 99\"\n",
    "# i/p2: \"7 6 9 11 9\"\n",
    "# i/p3: \"56 78 89 9 52\"\n",
    "#o/p [[10,20,30,60,99],[7,6,9,11,9],[56,78,89,9,52]]"
   ]
  },
  {
   "cell_type": "code",
   "execution_count": null,
   "metadata": {},
   "outputs": [],
   "source": [
    "# Get the input from keyboard Hoiw many names you want to read\n",
    "# Read the names from keybord one by one. Store them in a list.\n",
    "# update the same list with names as lowercase letters\n",
    "# Get the names in a new list as output which starts with vowels\n",
    "# Get the names in a new list which ends with consonants\n",
    "# Get the names in a new list which will starts with vowels and ends with consonants\n",
    "# Get the names in new list which will start with consonats and ends with vowel\n",
    "# Get the names in a list which have length in range(5,10). Both 5 and 10 are inclusive"
   ]
  },
  {
   "cell_type": "code",
   "execution_count": null,
   "metadata": {},
   "outputs": [],
   "source": [
    "# Read the emails of a string from keyboard until the user enters 'done'.\n",
    "# From the mails get the domin names of the mails in list\n",
    "# example \"ml.ai@gmail.com\" , domain is \"gmail.com\" here"
   ]
  },
  {
   "cell_type": "code",
   "execution_count": null,
   "metadata": {},
   "outputs": [],
   "source": [
    "# read the number of students from user\n",
    "# Read the details of students into a list. Each sublist contains below details\n",
    "    # studentName,RollNumber,Marks,Language in a single line\n",
    "    # example \"raj,416,56,python\"\n",
    "# Create a list in which \n",
    "    # each sublist conatains three elements\n",
    "        # First element is a tuple contains name and roll number\n",
    "        # second element is marks\n",
    "        # third element is language \n",
    "# From the list get the  different languages avaialble in the data"
   ]
  },
  {
   "cell_type": "code",
   "execution_count": null,
   "metadata": {},
   "outputs": [],
   "source": [
    "# read two lists from user. Two list conatins the names of students\n",
    "# Get the names which are there in both lists\n",
    "# Get the names which are there in alteast one list\n",
    "# Get the names which are there in list1 not there in list2\n",
    "# Get the names which are there in list2 not there in list1"
   ]
  },
  {
   "cell_type": "code",
   "execution_count": null,
   "metadata": {},
   "outputs": [],
   "source": [
    "# Craete multipliaction table of a number\n",
    "# Read the number from user\n",
    "# Example :3\n",
    "3 * 1 = 3\n",
    "3 * 2 = 6\n",
    "'''''''\n",
    "''''''\n",
    "3 * 10 = 30\n",
    "# Later modify the code so that you can read the lower bound and upperbound for the table. \n",
    "# for the above case lowerbound is 1 and upper bound is 10\n"
   ]
  },
  {
   "cell_type": "code",
   "execution_count": null,
   "metadata": {},
   "outputs": [],
   "source": [
    "# take a list of numbers or names with repetetive values\n",
    "# Get a list as output\n",
    "    # each sublist has the number and how many times it is there in the list\n",
    "# The ouput shoud be in sorted order based on count.\n",
    "# If the count is equal different numbers. Sort them based on numbers\n",
    "# Example : [23,45,23,77,67,45,45,2,3,3,2,3]\n",
    "# output :[[3,3],[45,3],[2,2],[23,2],[67,1],[77,1]] "
   ]
  }
 ],
 "metadata": {
  "kernelspec": {
   "display_name": "Python 3",
   "language": "python",
   "name": "python3"
  },
  "language_info": {
   "codemirror_mode": {
    "name": "ipython",
    "version": 3
   },
   "file_extension": ".py",
   "mimetype": "text/x-python",
   "name": "python",
   "nbconvert_exporter": "python",
   "pygments_lexer": "ipython3",
   "version": "3.7.4"
  }
 },
 "nbformat": 4,
 "nbformat_minor": 2
}

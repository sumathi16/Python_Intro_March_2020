{
 "cells": [
  {
   "cell_type": "code",
   "execution_count": null,
   "metadata": {},
   "outputs": [],
   "source": [
    "# Read the input from keyboard\n",
    "# i/p  \"23 44 67 92 99\"\n",
    "# o/p : [3,4,7,2,9]\n",
    "# Try the problem in two ways\n",
    "    # to update the same list \n",
    "    # to create a new list"
   ]
  },
  {
   "cell_type": "code",
   "execution_count": null,
   "metadata": {},
   "outputs": [],
   "source": [
    "# Read the inputs from keyboard\n",
    "# i/p1: \"10 20 30 60 99\"\n",
    "# i/p2: \"7 6 9 11 9\"\n",
    "# o/p1: [3,2,3,5,0]\n",
    "# o/p2 : [1,3,3,5,11]"
   ]
  },
  {
   "cell_type": "code",
   "execution_count": null,
   "metadata": {},
   "outputs": [],
   "source": [
    "# Read the inputs from keyboard\n",
    "# i/p1: \"10 20 30 60 99\"\n",
    "# i/p2: \"7 6 9 11 9\"\n",
    "# i/p3: \"56 78 89 9 52\"\n",
    "#o/p [[10,20,30,60,99],[7,6,9,11,9],[56,78,89,9,52]]"
   ]
  },
  {
   "cell_type": "code",
   "execution_count": null,
   "metadata": {},
   "outputs": [],
   "source": [
    "# Get the input from keyboard Hoiw many names you want to read\n",
    "# Read the names from keybord one by one. Store them in a list.\n",
    "# update the same list with names as lowercase letters\n",
    "# Get the names in a new list as output which starts with vowels\n",
    "# Get the names in a new list which ends with consonants\n",
    "# Get the names in a new list which will starts with vowels and ends with consonants\n",
    "# Get the names in new list which will start with consonats and ends with vowel\n",
    "# Get the names in a list which have length in range(5,10). Both 5 and 10 are inclusive"
   ]
  },
  {
   "cell_type": "code",
   "execution_count": 1,
   "metadata": {},
   "outputs": [],
   "source": [
    "# Read the emails of a string from keyboard until the user enters 'done'.\n",
    "# From the mails get the domin names of the mails in list\n",
    "# example \"ml.ai@gmail.com\" , domain is \"gmail.com\" here"
   ]
  },
  {
   "cell_type": "code",
   "execution_count": null,
   "metadata": {},
   "outputs": [],
   "source": [
    "# read the number of students from user\n",
    "# Read the details of students into a list. Each sublist contains below details\n",
    "    # student name,RollNumber,Marks,Language in a single line\n",
    "    # example \"raj,416,56,python\"\n",
    "# Create a list in which \n",
    "    # each sublist conatains three elements\n",
    "        # First element is a tuple contains name and roll number\n",
    "        # second element is marks\n",
    "        # third element is language \n",
    "# From the list get the  different languages avaialble in the data"
   ]
  },
  {
   "cell_type": "code",
   "execution_count": null,
   "metadata": {},
   "outputs": [],
   "source": []
  }
 ],
 "metadata": {
  "kernelspec": {
   "display_name": "Python 3",
   "language": "python",
   "name": "python3"
  },
  "language_info": {
   "codemirror_mode": {
    "name": "ipython",
    "version": 3
   },
   "file_extension": ".py",
   "mimetype": "text/x-python",
   "name": "python",
   "nbconvert_exporter": "python",
   "pygments_lexer": "ipython3",
   "version": "3.7.4"
  }
 },
 "nbformat": 4,
 "nbformat_minor": 2
}

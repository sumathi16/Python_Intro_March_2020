{
 "cells": [
  {
   "cell_type": "code",
   "execution_count": 9,
   "metadata": {
    "collapsed": true
   },
   "outputs": [
    {
     "name": "stdout",
     "output_type": "stream",
     "text": [
      "suma@gmail.com\n",
      "python1234@gmail.com\n",
      "hello@gmail.com\n",
      "hero@yahoo.in\n",
      "roja@yahoo.in\n",
      "promizeit@yahoo.in\n",
      "done\n",
      "['suma@gmail.com', 'python1234@gmail.com', 'hello@gmail.com', 'hero@yahoo.in', 'roja@yahoo.in', 'promizeit@yahoo.in']\n"
     ]
    }
   ],
   "source": [
    "# Read the emails of a string from keyboard until the user enters 'done'.\n",
    "# From the mails get the domin names of the mails in list\n",
    "# example \"ml.ai@gmail.com\" , domain is \"gmail.com\" here\n",
    "emails = []\n",
    "while True:\n",
    "    email = input()\n",
    "    if email == \"done\":\n",
    "        break\n",
    "    else:\n",
    "        emails.append(email)\n",
    "print(emails)\n",
    "        "
   ]
  },
  {
   "cell_type": "code",
   "execution_count": null,
   "metadata": {},
   "outputs": [],
   "source": [
    "# other logic\n",
    "emails = []\n",
    "while True:\n",
    "    email = input()\n",
    "    if email == \"done\":\n",
    "        break\n",
    "    emails.append(email)\n",
    "print(emails)"
   ]
  },
  {
   "cell_type": "code",
   "execution_count": null,
   "metadata": {},
   "outputs": [],
   "source": [
    "# wrong logic\n",
    "emails = []\n",
    "while True:\n",
    "    email = input()\n",
    "    emails.append(email)\n",
    "    if email == \"done\":\n",
    "        break\n",
    "print(emails)"
   ]
  },
  {
   "cell_type": "code",
   "execution_count": 3,
   "metadata": {
    "collapsed": true
   },
   "outputs": [
    {
     "name": "stdout",
     "output_type": "stream",
     "text": [
      ",jksdh.l\n",
      "dfjkhvl\n",
      "jmhgxdyjh\n",
      "hghfgdv\n",
      "done\n",
      "['done']\n"
     ]
    }
   ],
   "source": [
    "# wrong logic\n",
    "emails = []\n",
    "while True:\n",
    "    email = input()\n",
    "    if email == \"done\":\n",
    "        emails.append(email)\n",
    "        break\n",
    "print(emails)"
   ]
  },
  {
   "cell_type": "code",
   "execution_count": 4,
   "metadata": {},
   "outputs": [
    {
     "data": {
      "text/plain": [
       "['gmail.com', 'gmail.com', 'gmail.com', 'yahoo.in', 'yahoo.in', 'yahoo.in']"
      ]
     },
     "execution_count": 4,
     "metadata": {},
     "output_type": "execute_result"
    }
   ],
   "source": [
    "domains = []\n",
    "for i in range(len(emails)):\n",
    "    domains.append(emails[i].split('@')[-1])\n",
    "domains"
   ]
  },
  {
   "cell_type": "code",
   "execution_count": 1,
   "metadata": {
    "collapsed": true
   },
   "outputs": [
    {
     "data": {
      "text/plain": [
       "['suma@gmail.com',\n",
       " 'python1234@gmail.com',\n",
       " 'hello@gmail.com',\n",
       " 'hero@yahoo.in',\n",
       " 'roja@yahoo.in',\n",
       " 'promizeit@yahoo.in']"
      ]
     },
     "execution_count": 1,
     "metadata": {},
     "output_type": "execute_result"
    }
   ],
   "source": [
    "# How many emails are there with domain 'gmail.com'\n",
    "emails = ['suma@gmail.com',\n",
    " 'python1234@gmail.com',\n",
    " 'hello@gmail.com',\n",
    " 'hero@yahoo.in',\n",
    " 'roja@yahoo.in',\n",
    " 'promizeit@yahoo.in']\n",
    "emails"
   ]
  },
  {
   "cell_type": "code",
   "execution_count": 3,
   "metadata": {},
   "outputs": [
    {
     "name": "stdout",
     "output_type": "stream",
     "text": [
      "3\n"
     ]
    }
   ],
   "source": [
    "c =0\n",
    "for i in range(len(emails)):\n",
    "    if emails[i].split('@')[-1] == \"gmail.com\":\n",
    "        c += 1\n",
    "print(c)\n",
    "    "
   ]
  },
  {
   "cell_type": "code",
   "execution_count": 6,
   "metadata": {},
   "outputs": [
    {
     "data": {
      "text/plain": [
       "['gmail.com', 'yahoo.in']"
      ]
     },
     "execution_count": 6,
     "metadata": {},
     "output_type": "execute_result"
    }
   ],
   "source": [
    "# Get the unique domain names from the list domains\n",
    "unique_domains = []\n",
    "for i in domains:\n",
    "    if i not in unique_domains:\n",
    "        unique_domains.append(i)\n",
    "unique_domains"
   ]
  },
  {
   "cell_type": "code",
   "execution_count": 7,
   "metadata": {},
   "outputs": [
    {
     "data": {
      "text/plain": [
       "['gmail.com', 'yahoo.in']"
      ]
     },
     "execution_count": 7,
     "metadata": {},
     "output_type": "execute_result"
    }
   ],
   "source": [
    "list(set(domains))"
   ]
  },
  {
   "cell_type": "code",
   "execution_count": null,
   "metadata": {},
   "outputs": [],
   "source": [
    "# Reading the mails from user\n",
    "# getting domains in a new list\n",
    "# with a spectic domain how many mails are there\n",
    "# unique domains as a list\n",
    "# [[\"domain1\",count],[\"domain2\",count]]\n"
   ]
  },
  {
   "cell_type": "code",
   "execution_count": 8,
   "metadata": {},
   "outputs": [
    {
     "name": "stdout",
     "output_type": "stream",
     "text": [
      "['suma@gmail.com', 'python1234@gmail.com', 'hello@gmail.com', 'hero@yahoo.in', 'roja@yahoo.in', 'promizeit@yahoo.in']\n",
      "['gmail.com', 'gmail.com', 'gmail.com', 'yahoo.in', 'yahoo.in', 'yahoo.in']\n",
      "3\n",
      "['gmail.com', 'yahoo.in']\n"
     ]
    }
   ],
   "source": [
    "print(emails)\n",
    "print(domains)\n",
    "print(domains.count(\"gmail.com\"))\n",
    "print(unique_domains)"
   ]
  },
  {
   "cell_type": "code",
   "execution_count": 11,
   "metadata": {},
   "outputs": [
    {
     "data": {
      "text/plain": [
       "[['gmail.com', 3], ['yahoo.in', 3]]"
      ]
     },
     "execution_count": 11,
     "metadata": {},
     "output_type": "execute_result"
    }
   ],
   "source": [
    "domains_count = []\n",
    "for i in unique_domains:\n",
    "    domains_count.append([i,domains.count(i)])\n",
    "domains_count"
   ]
  },
  {
   "cell_type": "code",
   "execution_count": 12,
   "metadata": {
    "collapsed": true
   },
   "outputs": [
    {
     "data": {
      "text/plain": [
       "[['gmail.com', 3],\n",
       " ['gmail.com', 3],\n",
       " ['gmail.com', 3],\n",
       " ['yahoo.in', 3],\n",
       " ['yahoo.in', 3],\n",
       " ['yahoo.in', 3]]"
      ]
     },
     "execution_count": 12,
     "metadata": {},
     "output_type": "execute_result"
    }
   ],
   "source": [
    "domains_count = []\n",
    "for i in domains:\n",
    "    domains_count.append([i,domains.count(i)])\n",
    "domains_count"
   ]
  },
  {
   "cell_type": "code",
   "execution_count": null,
   "metadata": {},
   "outputs": [],
   "source": [
    "i/p : \"Rakesh 345 56 python\"\n",
    "o/p1 : [\"Rakesh\",345,56,\"python\"]\n",
    "o/p2 : [(\"Rakesh\",345),56,\"python\"]\n"
   ]
  },
  {
   "cell_type": "code",
   "execution_count": 13,
   "metadata": {},
   "outputs": [
    {
     "data": {
      "text/plain": [
       "(1, 2, 3)"
      ]
     },
     "execution_count": 13,
     "metadata": {},
     "output_type": "execute_result"
    }
   ],
   "source": [
    "tuple([1,2,3])"
   ]
  },
  {
   "cell_type": "code",
   "execution_count": null,
   "metadata": {},
   "outputs": [],
   "source": [
    "# read the number of students from user\n",
    "# Read the details of students into a list. Each sublist contains below details\n",
    "    # studentName,RollNumber,Marks,Language in a single line\n",
    "    # example \"raj,416,56,python\"\n",
    "# Create a list in which \n",
    "    # each sublist conatains three elements\n",
    "        # First element is a tuple contains name and roll number\n",
    "        # second element is marks\n",
    "        # third element is language \n",
    "# From the list get the  different languages avaialble in the data"
   ]
  },
  {
   "cell_type": "code",
   "execution_count": 15,
   "metadata": {},
   "outputs": [
    {
     "name": "stdout",
     "output_type": "stream",
     "text": [
      "Rakesh 345 56 python\n"
     ]
    },
    {
     "data": {
      "text/plain": [
       "['Rakesh', 345, 56, 'python']"
      ]
     },
     "execution_count": 15,
     "metadata": {},
     "output_type": "execute_result"
    }
   ],
   "source": [
    "s = input().split()\n",
    "s[1] =int(s[1])\n",
    "s[2] = int(s[2])\n",
    "s1 = [tuple(s[0:2]),s[2],s[3]]\n",
    "s1"
   ]
  },
  {
   "cell_type": "code",
   "execution_count": 19,
   "metadata": {},
   "outputs": [
    {
     "name": "stdout",
     "output_type": "stream",
     "text": [
      "3\n",
      "Rakesh 345 56 python\n",
      "Raj 312 98 C\n",
      "Hari 678 67 python\n"
     ]
    },
    {
     "data": {
      "text/plain": [
       "[[('Rakesh', 345), 56, 'python'],\n",
       " [('Raj', 312), 98, 'C'],\n",
       " [('Hari', 678), 67, 'python']]"
      ]
     },
     "execution_count": 19,
     "metadata": {},
     "output_type": "execute_result"
    }
   ],
   "source": [
    "n = int(input())\n",
    "students = []\n",
    "for i in range(n):\n",
    "    s = input().split()\n",
    "    s[1] =int(s[1])\n",
    "    s[2] = int(s[2])\n",
    "    s1 = [tuple(s[0:2]),s[2],s[3]]\n",
    "    students.append(s1)\n",
    "students"
   ]
  },
  {
   "cell_type": "code",
   "execution_count": 23,
   "metadata": {},
   "outputs": [
    {
     "data": {
      "text/plain": [
       "['python', 'C', 'python']"
      ]
     },
     "execution_count": 23,
     "metadata": {},
     "output_type": "execute_result"
    }
   ],
   "source": [
    "languages = []\n",
    "for i in range(len(students)):\n",
    "    languages.append(students[i][2])\n",
    "languages"
   ]
  },
  {
   "cell_type": "code",
   "execution_count": 24,
   "metadata": {},
   "outputs": [
    {
     "data": {
      "text/plain": [
       "['C', 'python']"
      ]
     },
     "execution_count": 24,
     "metadata": {},
     "output_type": "execute_result"
    }
   ],
   "source": [
    "list(set(languages))"
   ]
  },
  {
   "cell_type": "code",
   "execution_count": null,
   "metadata": {},
   "outputs": [],
   "source": [
    "# Get the marks of the student with roll number 678"
   ]
  },
  {
   "cell_type": "code",
   "execution_count": 25,
   "metadata": {},
   "outputs": [],
   "source": [
    "a = [45,667,678,92,62,46,78]\n",
    "# get the index of value 678 without using index function\n"
   ]
  },
  {
   "cell_type": "code",
   "execution_count": 26,
   "metadata": {},
   "outputs": [
    {
     "data": {
      "text/plain": [
       "2"
      ]
     },
     "execution_count": 26,
     "metadata": {},
     "output_type": "execute_result"
    }
   ],
   "source": [
    "a.index(678)"
   ]
  },
  {
   "cell_type": "code",
   "execution_count": 27,
   "metadata": {},
   "outputs": [
    {
     "name": "stdout",
     "output_type": "stream",
     "text": [
      "2\n"
     ]
    }
   ],
   "source": [
    "for i in range(len(a)):\n",
    "    if a[i] == 678:\n",
    "        print(i)"
   ]
  },
  {
   "cell_type": "code",
   "execution_count": 31,
   "metadata": {},
   "outputs": [
    {
     "name": "stdout",
     "output_type": "stream",
     "text": [
      "67\n"
     ]
    }
   ],
   "source": [
    "for i in range(len(students)):\n",
    "    if students[i][0][1] == 678:\n",
    "        print(students[i][1])"
   ]
  },
  {
   "cell_type": "code",
   "execution_count": 32,
   "metadata": {},
   "outputs": [
    {
     "name": "stdout",
     "output_type": "stream",
     "text": [
      "98\n"
     ]
    }
   ],
   "source": [
    "# Marks with student name Raj\n",
    "for i in range(len(students)):\n",
    "    if students[i][0][0] == \"Raj\":\n",
    "        print(students[i][1])"
   ]
  },
  {
   "cell_type": "code",
   "execution_count": 33,
   "metadata": {},
   "outputs": [
    {
     "name": "stdout",
     "output_type": "stream",
     "text": [
      "C\n"
     ]
    }
   ],
   "source": [
    "# language with student rollnumber 312\n",
    "for i in range(len(students)):\n",
    "    if students[i][0][1] == 312:\n",
    "        print(students[i][2])"
   ]
  },
  {
   "cell_type": "code",
   "execution_count": 35,
   "metadata": {},
   "outputs": [
    {
     "data": {
      "text/plain": [
       "[345, 678]"
      ]
     },
     "execution_count": 35,
     "metadata": {},
     "output_type": "execute_result"
    }
   ],
   "source": [
    "# Student roll numbers as a list with langauge python\n",
    "py_users =[]\n",
    "for i in range(len(students)):\n",
    "    if students[i][2] == \"python\":\n",
    "        py_users.append(students[i][0][1])\n",
    "py_users"
   ]
  },
  {
   "cell_type": "code",
   "execution_count": null,
   "metadata": {},
   "outputs": [],
   "source": []
  }
 ],
 "metadata": {
  "kernelspec": {
   "display_name": "Python 3",
   "language": "python",
   "name": "python3"
  },
  "language_info": {
   "codemirror_mode": {
    "name": "ipython",
    "version": 3
   },
   "file_extension": ".py",
   "mimetype": "text/x-python",
   "name": "python",
   "nbconvert_exporter": "python",
   "pygments_lexer": "ipython3",
   "version": "3.7.3"
  }
 },
 "nbformat": 4,
 "nbformat_minor": 2
}
